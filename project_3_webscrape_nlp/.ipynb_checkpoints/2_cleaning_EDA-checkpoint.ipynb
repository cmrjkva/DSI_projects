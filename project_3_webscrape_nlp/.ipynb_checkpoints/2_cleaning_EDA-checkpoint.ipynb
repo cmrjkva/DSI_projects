{
 "cells": [
  {
   "cell_type": "markdown",
   "metadata": {},
   "source": [
    "## Cleaning\n",
    "------\n",
    "### Imports"
   ]
  },
  {
   "cell_type": "code",
   "execution_count": 1,
   "metadata": {},
   "outputs": [],
   "source": [
    "import pandas as pd    \n",
    "import numpy as np\n",
    "\n",
    "import matplotlib\n",
    "import matplotlib.pyplot as plt\n",
    "import matplotlib.patches as mpatches\n",
    "\n",
    "import re\n",
    "import seaborn as sns\n",
    "import codecs\n",
    "\n",
    "import nltk\n",
    "from nltk.tokenize import sent_tokenize, word_tokenize, RegexpTokenizer\n",
    "from nltk.stem import WordNetLemmatizer\n",
    "from nltk.stem.porter import PorterStemmer\n",
    "from nltk.corpus import stopwords\n",
    "from nltk.sentiment.vader import SentimentIntensityAnalyzer\n",
    "from nltk import FreqDist, pos_tag\n",
    "from nltk.stem.snowball import SnowballStemmer \n",
    "\n",
    "from sklearn.model_selection import train_test_split\n",
    "from sklearn.feature_extraction.text import CountVectorizer, TfidfVectorizer\n",
    "from sklearn.decomposition import PCA, TruncatedSVD\n",
    "\n",
    "import warnings\n",
    "warnings.filterwarnings('ignore')\n"
   ]
  },
  {
   "cell_type": "markdown",
   "metadata": {},
   "source": [
    "### Loading and preparing the data"
   ]
  },
  {
   "cell_type": "code",
   "execution_count": 2,
   "metadata": {},
   "outputs": [],
   "source": [
    "startrek_comments = pd.read_csv('./datasets/startrek_comments.csv')\n",
    "starwars_comments = pd.read_csv('./datasets/starwars_comments.csv')\n",
    "startrek_submission = pd.read_csv('./datasets/startrek_submission.csv')\n",
    "starwars_submission = pd.read_csv('./datasets/starwars_submission.csv')\n",
    "\n",
    "startrek_submission = startrek_submission[['subreddit', 'selftext', 'title']]\n",
    "starwars_submission = starwars_submission[['subreddit', 'selftext', 'title']]\n",
    "startrek_comments = startrek_comments[['subreddit','body']]\n",
    "starwars_comments = starwars_comments[['subreddit','body']]\n",
    "\n",
    "starwars_comments['subreddit'] = starwars_comments['subreddit'].str.lower()\n",
    "starwars_submission['subreddit'] = starwars_submission['subreddit'].str.lower()\n",
    "\n",
    "comments = pd.concat([startrek_comments, starwars_comments], \n",
    "                     ignore_index=True)\n",
    "\n",
    "submissions = pd.concat([starwars_submission, startrek_submission], \n",
    "                        ignore_index=True)\n",
    "\n"
   ]
  },
  {
   "cell_type": "code",
   "execution_count": 3,
   "metadata": {},
   "outputs": [],
   "source": [
    "submissions['selftext'].fillna('', inplace=True)\n",
    "#Resolving the NUll Values\n",
    "# Combining the text values to one feature\n",
    "submissions['all'] = submissions['selftext'] + submissions['title']\n",
    "submissions.drop(['selftext', 'title'], axis=1, inplace=True)"
   ]
  },
  {
   "cell_type": "markdown",
   "metadata": {},
   "source": [
    "### Regular Expressions"
   ]
  },
  {
   "cell_type": "code",
   "execution_count": 4,
   "metadata": {},
   "outputs": [],
   "source": [
    "def standardize_text(df, text_field):\n",
    "    # Medium : A NLP workshop by Emmanuel Ameisen (@EmmanuelAmeisen), from Insight\n",
    "    # Introduced to me by Emily Naftalin, a coleague of mine.  \n",
    "    df[text_field] = df[text_field].str.replace(r\"removed\",'')\n",
    "    df[text_field] = df[text_field].str.replace(r\"http\\S+\", \"\")\n",
    "    df[text_field] = df[text_field].str.replace('[^\\w\\s]',' ')\n",
    "        # from James Opachich, a wine aficionado and coleague, gets rid of special characters. \n",
    "    df[text_field] = df[text_field].str.replace(r\"http\", \"\")\n",
    "    df[text_field] = df[text_field].str.replace(r\"@\\S+\", \"\")\n",
    "    df[text_field] = df[text_field].str.replace(r\"@\", \"at\")\n",
    "    df[text_field] = [re.sub(r\"[\\.\\(\\),\\^\\[\\]\\!\\?\\@\\'\\`\\\"\\_\\n]\", \"\", df[text_field][i]) for i in df[text_field].index]\n",
    "    df[text_field] = df[text_field].str.lower()\n",
    "\n",
    "    return df\n",
    "\n",
    "submissions = standardize_text(submissions, 'all')\n",
    "comments = standardize_text(comments, 'body')"
   ]
  },
  {
   "cell_type": "markdown",
   "metadata": {},
   "source": [
    "### Mapping and final checks before EDA"
   ]
  },
  {
   "cell_type": "code",
   "execution_count": 5,
   "metadata": {},
   "outputs": [],
   "source": [
    "comments['subreddit'] = comments['subreddit'].map({'startrek':0,'starwars':1})\n",
    "submissions['subreddit'] = submissions['subreddit'].map({'startrek':0,'starwars':1})\n",
    "\n",
    "comments['body']=comments['body'].astype(str)\n",
    "submissions['all']=submissions['all'].astype(str)\n",
    "\n"
   ]
  },
  {
   "cell_type": "code",
   "execution_count": 6,
   "metadata": {},
   "outputs": [
    {
     "data": {
      "text/plain": [
       "subreddit    0\n",
       "body         0\n",
       "dtype: int64"
      ]
     },
     "execution_count": 6,
     "metadata": {},
     "output_type": "execute_result"
    }
   ],
   "source": [
    "comments.isnull().sum()"
   ]
  },
  {
   "cell_type": "code",
   "execution_count": 7,
   "metadata": {},
   "outputs": [
    {
     "data": {
      "text/plain": [
       "subreddit    0\n",
       "all          0\n",
       "dtype: int64"
      ]
     },
     "execution_count": 7,
     "metadata": {},
     "output_type": "execute_result"
    }
   ],
   "source": [
    "submissions.isnull().sum()\n"
   ]
  },
  {
   "cell_type": "code",
   "execution_count": 8,
   "metadata": {},
   "outputs": [
    {
     "data": {
      "text/plain": [
       "1    2000\n",
       "0    2000\n",
       "Name: subreddit, dtype: int64"
      ]
     },
     "execution_count": 8,
     "metadata": {},
     "output_type": "execute_result"
    }
   ],
   "source": [
    "submissions['subreddit'].value_counts()"
   ]
  },
  {
   "cell_type": "markdown",
   "metadata": {},
   "source": [
    "## EDA\n",
    "-----------------------------------------------------------------------------------------"
   ]
  },
  {
   "cell_type": "markdown",
   "metadata": {},
   "source": [
    "### Tokenize\n",
    "\n",
    "Individually breaks the text up into words. "
   ]
  },
  {
   "cell_type": "code",
   "execution_count": 9,
   "metadata": {},
   "outputs": [],
   "source": [
    "# Instantiate tokenizer.\n",
    "tokenizer_1 = RegexpTokenizer('\\w+|\\$[\\d\\.]+|S+')\n",
    "\n",
    "# \"Run\" Tokenizer\n",
    "comments['tokens'] = comments['body'].apply(tokenizer_1.tokenize)\n",
    "submissions[\"tokens\"] = submissions[\"all\"].apply(tokenizer_1.tokenize)"
   ]
  },
  {
   "cell_type": "code",
   "execution_count": 10,
   "metadata": {},
   "outputs": [
    {
     "data": {
      "text/plain": [
       "0       [i, ve, seen, several, novelizations, of, the,...\n",
       "1       [i, posted, this, as, a, comment, in, another,...\n",
       "2       [i, would, like, a, mace, windu, show, showing...\n",
       "3       [1, the, ot, is, basically, reverted, the, gal...\n",
       "4       [me, lili, mirojnickwho, d, you, get, to, play...\n",
       "                              ...                        \n",
       "3995                              [i, love, this, speech]\n",
       "3996    [is, there, some, reason, that, they, can, t, ...\n",
       "3997    [there, are, 791, episodes, of, star, trek, al...\n",
       "3998    [when, an, unauthorized, officer, is, in, your...\n",
       "3999    [preface, i, love, love, love, ds9, as, it, wa...\n",
       "Name: tokens, Length: 4000, dtype: object"
      ]
     },
     "execution_count": 10,
     "metadata": {},
     "output_type": "execute_result"
    }
   ],
   "source": [
    "submissions['tokens']"
   ]
  },
  {
   "cell_type": "markdown",
   "metadata": {},
   "source": [
    "### Word Count"
   ]
  },
  {
   "cell_type": "code",
   "execution_count": 11,
   "metadata": {},
   "outputs": [
    {
     "data": {
      "text/html": [
       "<div>\n",
       "<style scoped>\n",
       "    .dataframe tbody tr th:only-of-type {\n",
       "        vertical-align: middle;\n",
       "    }\n",
       "\n",
       "    .dataframe tbody tr th {\n",
       "        vertical-align: top;\n",
       "    }\n",
       "\n",
       "    .dataframe thead th {\n",
       "        text-align: right;\n",
       "    }\n",
       "</style>\n",
       "<table border=\"1\" class=\"dataframe\">\n",
       "  <thead>\n",
       "    <tr style=\"text-align: right;\">\n",
       "      <th></th>\n",
       "      <th>subreddit</th>\n",
       "      <th>all</th>\n",
       "      <th>tokens</th>\n",
       "      <th>word_count</th>\n",
       "    </tr>\n",
       "  </thead>\n",
       "  <tbody>\n",
       "    <tr>\n",
       "      <th>0</th>\n",
       "      <td>1</td>\n",
       "      <td>i ve seen several novelizations of the main 6 ...</td>\n",
       "      <td>[i, ve, seen, several, novelizations, of, the,...</td>\n",
       "      <td>57</td>\n",
       "    </tr>\n",
       "    <tr>\n",
       "      <th>1</th>\n",
       "      <td>1</td>\n",
       "      <td>i posted this as a comment in another thread  ...</td>\n",
       "      <td>[i, posted, this, as, a, comment, in, another,...</td>\n",
       "      <td>457</td>\n",
       "    </tr>\n",
       "    <tr>\n",
       "      <th>2</th>\n",
       "      <td>1</td>\n",
       "      <td>i would like a mace windu show showing his jou...</td>\n",
       "      <td>[i, would, like, a, mace, windu, show, showing...</td>\n",
       "      <td>99</td>\n",
       "    </tr>\n",
       "    <tr>\n",
       "      <th>3</th>\n",
       "      <td>1</td>\n",
       "      <td>1 the ot is basically reverted   the galaxy is...</td>\n",
       "      <td>[1, the, ot, is, basically, reverted, the, gal...</td>\n",
       "      <td>374</td>\n",
       "    </tr>\n",
       "    <tr>\n",
       "      <th>4</th>\n",
       "      <td>1</td>\n",
       "      <td>me lili mirojnickwho d you get to play princes...</td>\n",
       "      <td>[me, lili, mirojnickwho, d, you, get, to, play...</td>\n",
       "      <td>16</td>\n",
       "    </tr>\n",
       "  </tbody>\n",
       "</table>\n",
       "</div>"
      ],
      "text/plain": [
       "   subreddit                                                all  \\\n",
       "0          1  i ve seen several novelizations of the main 6 ...   \n",
       "1          1  i posted this as a comment in another thread  ...   \n",
       "2          1  i would like a mace windu show showing his jou...   \n",
       "3          1  1 the ot is basically reverted   the galaxy is...   \n",
       "4          1  me lili mirojnickwho d you get to play princes...   \n",
       "\n",
       "                                              tokens  word_count  \n",
       "0  [i, ve, seen, several, novelizations, of, the,...          57  \n",
       "1  [i, posted, this, as, a, comment, in, another,...         457  \n",
       "2  [i, would, like, a, mace, windu, show, showing...          99  \n",
       "3  [1, the, ot, is, basically, reverted, the, gal...         374  \n",
       "4  [me, lili, mirojnickwho, d, you, get, to, play...          16  "
      ]
     },
     "execution_count": 11,
     "metadata": {},
     "output_type": "execute_result"
    }
   ],
   "source": [
    "submissions['word_count']=[len(submissions['tokens'][i]) for i in submissions.index]\n",
    "\n",
    "submissions.head()"
   ]
  },
  {
   "cell_type": "markdown",
   "metadata": {},
   "source": [
    "### Sentiment Analysis"
   ]
  },
  {
   "cell_type": "code",
   "execution_count": 12,
   "metadata": {},
   "outputs": [],
   "source": [
    "sia = SentimentIntensityAnalyzer()\n",
    "def get_compound_sentiment(post):\n",
    "    return sia.polarity_scores(post)['compound']"
   ]
  },
  {
   "cell_type": "code",
   "execution_count": 13,
   "metadata": {},
   "outputs": [
    {
     "data": {
      "text/html": [
       "<div>\n",
       "<style scoped>\n",
       "    .dataframe tbody tr th:only-of-type {\n",
       "        vertical-align: middle;\n",
       "    }\n",
       "\n",
       "    .dataframe tbody tr th {\n",
       "        vertical-align: top;\n",
       "    }\n",
       "\n",
       "    .dataframe thead th {\n",
       "        text-align: right;\n",
       "    }\n",
       "</style>\n",
       "<table border=\"1\" class=\"dataframe\">\n",
       "  <thead>\n",
       "    <tr style=\"text-align: right;\">\n",
       "      <th></th>\n",
       "      <th>subreddit</th>\n",
       "      <th>all</th>\n",
       "      <th>tokens</th>\n",
       "      <th>word_count</th>\n",
       "      <th>sentiment</th>\n",
       "    </tr>\n",
       "  </thead>\n",
       "  <tbody>\n",
       "    <tr>\n",
       "      <th>0</th>\n",
       "      <td>1</td>\n",
       "      <td>i ve seen several novelizations of the main 6 ...</td>\n",
       "      <td>[i, ve, seen, several, novelizations, of, the,...</td>\n",
       "      <td>57</td>\n",
       "      <td>0.9657</td>\n",
       "    </tr>\n",
       "    <tr>\n",
       "      <th>1</th>\n",
       "      <td>1</td>\n",
       "      <td>i posted this as a comment in another thread  ...</td>\n",
       "      <td>[i, posted, this, as, a, comment, in, another,...</td>\n",
       "      <td>457</td>\n",
       "      <td>0.9790</td>\n",
       "    </tr>\n",
       "    <tr>\n",
       "      <th>2</th>\n",
       "      <td>1</td>\n",
       "      <td>i would like a mace windu show showing his jou...</td>\n",
       "      <td>[i, would, like, a, mace, windu, show, showing...</td>\n",
       "      <td>99</td>\n",
       "      <td>0.9667</td>\n",
       "    </tr>\n",
       "    <tr>\n",
       "      <th>3</th>\n",
       "      <td>1</td>\n",
       "      <td>1 the ot is basically reverted   the galaxy is...</td>\n",
       "      <td>[1, the, ot, is, basically, reverted, the, gal...</td>\n",
       "      <td>374</td>\n",
       "      <td>-0.9959</td>\n",
       "    </tr>\n",
       "    <tr>\n",
       "      <th>4</th>\n",
       "      <td>1</td>\n",
       "      <td>me lili mirojnickwho d you get to play princes...</td>\n",
       "      <td>[me, lili, mirojnickwho, d, you, get, to, play...</td>\n",
       "      <td>16</td>\n",
       "      <td>0.3400</td>\n",
       "    </tr>\n",
       "  </tbody>\n",
       "</table>\n",
       "</div>"
      ],
      "text/plain": [
       "   subreddit                                                all  \\\n",
       "0          1  i ve seen several novelizations of the main 6 ...   \n",
       "1          1  i posted this as a comment in another thread  ...   \n",
       "2          1  i would like a mace windu show showing his jou...   \n",
       "3          1  1 the ot is basically reverted   the galaxy is...   \n",
       "4          1  me lili mirojnickwho d you get to play princes...   \n",
       "\n",
       "                                              tokens  word_count  sentiment  \n",
       "0  [i, ve, seen, several, novelizations, of, the,...          57     0.9657  \n",
       "1  [i, posted, this, as, a, comment, in, another,...         457     0.9790  \n",
       "2  [i, would, like, a, mace, windu, show, showing...          99     0.9667  \n",
       "3  [1, the, ot, is, basically, reverted, the, gal...         374    -0.9959  \n",
       "4  [me, lili, mirojnickwho, d, you, get, to, play...          16     0.3400  "
      ]
     },
     "execution_count": 13,
     "metadata": {},
     "output_type": "execute_result"
    }
   ],
   "source": [
    "submissions['sentiment'] = submissions['all'].apply(get_compound_sentiment)\n",
    "submissions.head()"
   ]
  },
  {
   "cell_type": "markdown",
   "metadata": {},
   "source": [
    "### Lemmatizing & Stemming\n",
    "\n",
    "- \"He is *running* really fast!\"\n",
    "- \"He *ran* the race.\"\n",
    "- \"He *runs* a five-minute mile.\"\n",
    "\n",
    "If we wanted a computer to interpret these sentences, I might count up how many times I see each word. The computer will treat words like \"running,\" \"ran,\" and \"runs\" differently... but they mean very similar things (in this context)!\n",
    "\n",
    "**Lemmatizing** and **stemming** are two forms of shortening words so we can combine similar forms of the same word.\n",
    "\n",
    "When we \"**lemmatize**\" data, we take words and attempt to return their *lemma*, or the base/dictionary form of a word."
   ]
  },
  {
   "cell_type": "code",
   "execution_count": 14,
   "metadata": {},
   "outputs": [],
   "source": [
    "# Instantiate Lemmatizer.\n",
    "lemmatizer = WordNetLemmatizer()\n",
    "\n",
    "lem_array = []\n",
    "for i in submissions.index:\n",
    "    lem_list = []\n",
    "    for word in submissions['tokens'][i]:\n",
    "        lem_list.append(lemmatizer.lemmatize(word))\n",
    "    lem_array.append(lem_list)\n",
    "\n",
    "submissions['lems'] = lem_array"
   ]
  },
  {
   "cell_type": "code",
   "execution_count": 15,
   "metadata": {},
   "outputs": [],
   "source": [
    "# Instigate PorterStemmer\n",
    "p_stemmer = PorterStemmer()\n",
    "\n",
    "# Actually screw Porter, its old, lets do snowball stemmer. \n",
    "#the snow stemmer requires a language parameter \n",
    "snow_stemmer = SnowballStemmer(language='english')\n",
    "\n",
    "\n",
    "stem_array = []\n",
    "for i in submissions.index:\n",
    "    stem_list = []\n",
    "    for word in submissions['tokens'][i]:\n",
    "        stem_list.append(snow_stemmer.stem(word))\n",
    "    stem_array.append(stem_list)\n",
    "\n",
    "submissions['stems'] = stem_array"
   ]
  },
  {
   "cell_type": "code",
   "execution_count": 16,
   "metadata": {},
   "outputs": [
    {
     "data": {
      "text/html": [
       "<div>\n",
       "<style scoped>\n",
       "    .dataframe tbody tr th:only-of-type {\n",
       "        vertical-align: middle;\n",
       "    }\n",
       "\n",
       "    .dataframe tbody tr th {\n",
       "        vertical-align: top;\n",
       "    }\n",
       "\n",
       "    .dataframe thead th {\n",
       "        text-align: right;\n",
       "    }\n",
       "</style>\n",
       "<table border=\"1\" class=\"dataframe\">\n",
       "  <thead>\n",
       "    <tr style=\"text-align: right;\">\n",
       "      <th></th>\n",
       "      <th>subreddit</th>\n",
       "      <th>all</th>\n",
       "      <th>tokens</th>\n",
       "      <th>word_count</th>\n",
       "      <th>sentiment</th>\n",
       "      <th>lems</th>\n",
       "      <th>stems</th>\n",
       "    </tr>\n",
       "  </thead>\n",
       "  <tbody>\n",
       "    <tr>\n",
       "      <th>0</th>\n",
       "      <td>1</td>\n",
       "      <td>i ve seen several novelizations of the main 6 ...</td>\n",
       "      <td>[i, ve, seen, several, novelizations, of, the,...</td>\n",
       "      <td>57</td>\n",
       "      <td>0.9657</td>\n",
       "      <td>[i, ve, seen, several, novelization, of, the, ...</td>\n",
       "      <td>[i, ve, seen, sever, novel, of, the, main, 6, ...</td>\n",
       "    </tr>\n",
       "    <tr>\n",
       "      <th>1</th>\n",
       "      <td>1</td>\n",
       "      <td>i posted this as a comment in another thread  ...</td>\n",
       "      <td>[i, posted, this, as, a, comment, in, another,...</td>\n",
       "      <td>457</td>\n",
       "      <td>0.9790</td>\n",
       "      <td>[i, posted, this, a, a, comment, in, another, ...</td>\n",
       "      <td>[i, post, this, as, a, comment, in, anoth, thr...</td>\n",
       "    </tr>\n",
       "    <tr>\n",
       "      <th>2</th>\n",
       "      <td>1</td>\n",
       "      <td>i would like a mace windu show showing his jou...</td>\n",
       "      <td>[i, would, like, a, mace, windu, show, showing...</td>\n",
       "      <td>99</td>\n",
       "      <td>0.9667</td>\n",
       "      <td>[i, would, like, a, mace, windu, show, showing...</td>\n",
       "      <td>[i, would, like, a, mace, windu, show, show, h...</td>\n",
       "    </tr>\n",
       "    <tr>\n",
       "      <th>3</th>\n",
       "      <td>1</td>\n",
       "      <td>1 the ot is basically reverted   the galaxy is...</td>\n",
       "      <td>[1, the, ot, is, basically, reverted, the, gal...</td>\n",
       "      <td>374</td>\n",
       "      <td>-0.9959</td>\n",
       "      <td>[1, the, ot, is, basically, reverted, the, gal...</td>\n",
       "      <td>[1, the, ot, is, basic, revert, the, galaxi, i...</td>\n",
       "    </tr>\n",
       "    <tr>\n",
       "      <th>4</th>\n",
       "      <td>1</td>\n",
       "      <td>me lili mirojnickwho d you get to play princes...</td>\n",
       "      <td>[me, lili, mirojnickwho, d, you, get, to, play...</td>\n",
       "      <td>16</td>\n",
       "      <td>0.3400</td>\n",
       "      <td>[me, lili, mirojnickwho, d, you, get, to, play...</td>\n",
       "      <td>[me, lili, mirojnickwho, d, you, get, to, play...</td>\n",
       "    </tr>\n",
       "  </tbody>\n",
       "</table>\n",
       "</div>"
      ],
      "text/plain": [
       "   subreddit                                                all  \\\n",
       "0          1  i ve seen several novelizations of the main 6 ...   \n",
       "1          1  i posted this as a comment in another thread  ...   \n",
       "2          1  i would like a mace windu show showing his jou...   \n",
       "3          1  1 the ot is basically reverted   the galaxy is...   \n",
       "4          1  me lili mirojnickwho d you get to play princes...   \n",
       "\n",
       "                                              tokens  word_count  sentiment  \\\n",
       "0  [i, ve, seen, several, novelizations, of, the,...          57     0.9657   \n",
       "1  [i, posted, this, as, a, comment, in, another,...         457     0.9790   \n",
       "2  [i, would, like, a, mace, windu, show, showing...          99     0.9667   \n",
       "3  [1, the, ot, is, basically, reverted, the, gal...         374    -0.9959   \n",
       "4  [me, lili, mirojnickwho, d, you, get, to, play...          16     0.3400   \n",
       "\n",
       "                                                lems  \\\n",
       "0  [i, ve, seen, several, novelization, of, the, ...   \n",
       "1  [i, posted, this, a, a, comment, in, another, ...   \n",
       "2  [i, would, like, a, mace, windu, show, showing...   \n",
       "3  [1, the, ot, is, basically, reverted, the, gal...   \n",
       "4  [me, lili, mirojnickwho, d, you, get, to, play...   \n",
       "\n",
       "                                               stems  \n",
       "0  [i, ve, seen, sever, novel, of, the, main, 6, ...  \n",
       "1  [i, post, this, as, a, comment, in, anoth, thr...  \n",
       "2  [i, would, like, a, mace, windu, show, show, h...  \n",
       "3  [1, the, ot, is, basic, revert, the, galaxi, i...  \n",
       "4  [me, lili, mirojnickwho, d, you, get, to, play...  "
      ]
     },
     "execution_count": 16,
     "metadata": {},
     "output_type": "execute_result"
    }
   ],
   "source": [
    "submissions.head()"
   ]
  },
  {
   "cell_type": "markdown",
   "metadata": {},
   "source": [
    "### Stop Word Removal\n",
    "\n",
    "Removes common words that are thought to have little implication , however that is not always the case. Lets see what happens."
   ]
  },
  {
   "cell_type": "code",
   "execution_count": 17,
   "metadata": {},
   "outputs": [
    {
     "name": "stdout",
     "output_type": "stream",
     "text": [
      "our - ours\n",
      "ourselv - ourselves\n",
      "you'r - you're\n",
      "you'v - you've\n",
      "your - yours\n",
      "yourselv - yourselves\n",
      "she - she's\n",
      "her - hers\n",
      "it - it's\n",
      "it - its\n",
      "their - theirs\n",
      "themselv - themselves\n",
      "be - being\n",
      "have - having\n",
      "doe - does\n",
      "do - doing\n",
      "becaus - because\n",
      "dure - during\n",
      "befor - before\n",
      "abov - above\n",
      "onc - once\n",
      "whi - why\n",
      "ani - any\n",
      "onli - only\n",
      "veri - very\n",
      "should'v - should've\n"
     ]
    }
   ],
   "source": [
    "stop = stopwords.words('english')\n",
    "puncts = ['!', ',', '\\'', '\\\"', ',', \"\\'\", '\\;']\n",
    "stop.extend(puncts)\n",
    "\n",
    "stem_stop = []\n",
    "for word in stop:\n",
    "    stem_stop.append(snow_stemmer.stem(word))\n",
    "\n",
    "\n",
    "# Print only those stemmed tokens that are different.\n",
    "for a, b in zip(stem_stop, stop):\n",
    "    if a != b:\n",
    "        print(a + \" - \" + b)"
   ]
  },
  {
   "cell_type": "code",
   "execution_count": 18,
   "metadata": {},
   "outputs": [],
   "source": [
    "stop_array = []\n",
    "\n",
    "for i in submissions.index:\n",
    "    \n",
    "    stop_list = []\n",
    "    #remove stop words from stems list. that must be done with the stems.\n",
    "    \n",
    "    for item in submissions['stems'][i]:\n",
    "        if item not in stem_stop: # Stem_stop are the stop words inside the stems. \n",
    "            stop_list.append(item) #These are the words not stop words\n",
    "    stop_array.append(stop_list) \n",
    "    \n",
    "submissions['nostop_stem'] = stop_array"
   ]
  },
  {
   "cell_type": "code",
   "execution_count": 19,
   "metadata": {},
   "outputs": [
    {
     "data": {
      "text/html": [
       "<div>\n",
       "<style scoped>\n",
       "    .dataframe tbody tr th:only-of-type {\n",
       "        vertical-align: middle;\n",
       "    }\n",
       "\n",
       "    .dataframe tbody tr th {\n",
       "        vertical-align: top;\n",
       "    }\n",
       "\n",
       "    .dataframe thead th {\n",
       "        text-align: right;\n",
       "    }\n",
       "</style>\n",
       "<table border=\"1\" class=\"dataframe\">\n",
       "  <thead>\n",
       "    <tr style=\"text-align: right;\">\n",
       "      <th></th>\n",
       "      <th>subreddit</th>\n",
       "      <th>all</th>\n",
       "      <th>tokens</th>\n",
       "      <th>word_count</th>\n",
       "      <th>sentiment</th>\n",
       "      <th>lems</th>\n",
       "      <th>stems</th>\n",
       "      <th>nostop_stem</th>\n",
       "      <th>nostop_lems</th>\n",
       "    </tr>\n",
       "  </thead>\n",
       "  <tbody>\n",
       "    <tr>\n",
       "      <th>0</th>\n",
       "      <td>1</td>\n",
       "      <td>i ve seen several novelizations of the main 6 ...</td>\n",
       "      <td>[i, ve, seen, several, novelizations, of, the,...</td>\n",
       "      <td>57</td>\n",
       "      <td>0.9657</td>\n",
       "      <td>[i, ve, seen, several, novelization, of, the, ...</td>\n",
       "      <td>[i, ve, seen, sever, novel, of, the, main, 6, ...</td>\n",
       "      <td>[seen, sever, novel, main, 6, movi, never, fig...</td>\n",
       "      <td>[seen, several, novelization, main, 6, movie, ...</td>\n",
       "    </tr>\n",
       "    <tr>\n",
       "      <th>1</th>\n",
       "      <td>1</td>\n",
       "      <td>i posted this as a comment in another thread  ...</td>\n",
       "      <td>[i, posted, this, as, a, comment, in, another,...</td>\n",
       "      <td>457</td>\n",
       "      <td>0.9790</td>\n",
       "      <td>[i, posted, this, a, a, comment, in, another, ...</td>\n",
       "      <td>[i, post, this, as, a, comment, in, anoth, thr...</td>\n",
       "      <td>[post, comment, anoth, thread, kinda, got, bur...</td>\n",
       "      <td>[posted, comment, another, thread, kinda, got,...</td>\n",
       "    </tr>\n",
       "    <tr>\n",
       "      <th>2</th>\n",
       "      <td>1</td>\n",
       "      <td>i would like a mace windu show showing his jou...</td>\n",
       "      <td>[i, would, like, a, mace, windu, show, showing...</td>\n",
       "      <td>99</td>\n",
       "      <td>0.9667</td>\n",
       "      <td>[i, would, like, a, mace, windu, show, showing...</td>\n",
       "      <td>[i, would, like, a, mace, windu, show, show, h...</td>\n",
       "      <td>[would, like, mace, windu, show, show, journey...</td>\n",
       "      <td>[would, like, mace, windu, show, showing, jour...</td>\n",
       "    </tr>\n",
       "    <tr>\n",
       "      <th>3</th>\n",
       "      <td>1</td>\n",
       "      <td>1 the ot is basically reverted   the galaxy is...</td>\n",
       "      <td>[1, the, ot, is, basically, reverted, the, gal...</td>\n",
       "      <td>374</td>\n",
       "      <td>-0.9959</td>\n",
       "      <td>[1, the, ot, is, basically, reverted, the, gal...</td>\n",
       "      <td>[1, the, ot, is, basic, revert, the, galaxi, i...</td>\n",
       "      <td>[1, ot, basic, revert, galaxi, left, reveng, s...</td>\n",
       "      <td>[1, ot, basically, reverted, galaxy, left, rev...</td>\n",
       "    </tr>\n",
       "    <tr>\n",
       "      <th>4</th>\n",
       "      <td>1</td>\n",
       "      <td>me lili mirojnickwho d you get to play princes...</td>\n",
       "      <td>[me, lili, mirojnickwho, d, you, get, to, play...</td>\n",
       "      <td>16</td>\n",
       "      <td>0.3400</td>\n",
       "      <td>[me, lili, mirojnickwho, d, you, get, to, play...</td>\n",
       "      <td>[me, lili, mirojnickwho, d, you, get, to, play...</td>\n",
       "      <td>[lili, mirojnickwho, get, play, princess, leia...</td>\n",
       "      <td>[lili, mirojnickwho, get, play, princess, leia...</td>\n",
       "    </tr>\n",
       "    <tr>\n",
       "      <th>...</th>\n",
       "      <td>...</td>\n",
       "      <td>...</td>\n",
       "      <td>...</td>\n",
       "      <td>...</td>\n",
       "      <td>...</td>\n",
       "      <td>...</td>\n",
       "      <td>...</td>\n",
       "      <td>...</td>\n",
       "      <td>...</td>\n",
       "    </tr>\n",
       "    <tr>\n",
       "      <th>3995</th>\n",
       "      <td>0</td>\n",
       "      <td>i love this speech</td>\n",
       "      <td>[i, love, this, speech]</td>\n",
       "      <td>4</td>\n",
       "      <td>0.6369</td>\n",
       "      <td>[i, love, this, speech]</td>\n",
       "      <td>[i, love, this, speech]</td>\n",
       "      <td>[love, speech]</td>\n",
       "      <td>[love, speech]</td>\n",
       "    </tr>\n",
       "    <tr>\n",
       "      <th>3996</th>\n",
       "      <td>0</td>\n",
       "      <td>is there some reason that they can t replicate...</td>\n",
       "      <td>[is, there, some, reason, that, they, can, t, ...</td>\n",
       "      <td>26</td>\n",
       "      <td>0.0000</td>\n",
       "      <td>[is, there, some, reason, that, they, can, t, ...</td>\n",
       "      <td>[is, there, some, reason, that, they, can, t, ...</td>\n",
       "      <td>[reason, replic, technolog, futur, futur, star...</td>\n",
       "      <td>[reason, replicate, technology, future, future...</td>\n",
       "    </tr>\n",
       "    <tr>\n",
       "      <th>3997</th>\n",
       "      <td>0</td>\n",
       "      <td>there are 791 episodes of star trek altogether...</td>\n",
       "      <td>[there, are, 791, episodes, of, star, trek, al...</td>\n",
       "      <td>34</td>\n",
       "      <td>0.0000</td>\n",
       "      <td>[there, are, 791, episode, of, star, trek, alt...</td>\n",
       "      <td>[there, are, 791, episod, of, star, trek, alto...</td>\n",
       "      <td>[791, episod, star, trek, altogeth, count, cou...</td>\n",
       "      <td>[791, episode, star, trek, altogether, countin...</td>\n",
       "    </tr>\n",
       "    <tr>\n",
       "      <th>3998</th>\n",
       "      <td>0</td>\n",
       "      <td>when an unauthorized officer is in your captai...</td>\n",
       "      <td>[when, an, unauthorized, officer, is, in, your...</td>\n",
       "      <td>26</td>\n",
       "      <td>0.6124</td>\n",
       "      <td>[when, an, unauthorized, officer, is, in, your...</td>\n",
       "      <td>[when, an, unauthor, offic, is, in, your, capt...</td>\n",
       "      <td>[unauthor, offic, captain, chair, cute, remov,...</td>\n",
       "      <td>[unauthorized, officer, captain, chair, cute, ...</td>\n",
       "    </tr>\n",
       "    <tr>\n",
       "      <th>3999</th>\n",
       "      <td>0</td>\n",
       "      <td>preface i love  love  love ds9 as it was wri...</td>\n",
       "      <td>[preface, i, love, love, love, ds9, as, it, wa...</td>\n",
       "      <td>537</td>\n",
       "      <td>0.9962</td>\n",
       "      <td>[preface, i, love, love, love, ds9, a, it, wa,...</td>\n",
       "      <td>[prefac, i, love, love, love, ds9, as, it, was...</td>\n",
       "      <td>[prefac, love, love, love, ds9, written, produ...</td>\n",
       "      <td>[preface, love, love, love, ds9, wa, written, ...</td>\n",
       "    </tr>\n",
       "  </tbody>\n",
       "</table>\n",
       "<p>4000 rows × 9 columns</p>\n",
       "</div>"
      ],
      "text/plain": [
       "      subreddit                                                all  \\\n",
       "0             1  i ve seen several novelizations of the main 6 ...   \n",
       "1             1  i posted this as a comment in another thread  ...   \n",
       "2             1  i would like a mace windu show showing his jou...   \n",
       "3             1  1 the ot is basically reverted   the galaxy is...   \n",
       "4             1  me lili mirojnickwho d you get to play princes...   \n",
       "...         ...                                                ...   \n",
       "3995          0                                 i love this speech   \n",
       "3996          0  is there some reason that they can t replicate...   \n",
       "3997          0  there are 791 episodes of star trek altogether...   \n",
       "3998          0  when an unauthorized officer is in your captai...   \n",
       "3999          0    preface i love  love  love ds9 as it was wri...   \n",
       "\n",
       "                                                 tokens  word_count  \\\n",
       "0     [i, ve, seen, several, novelizations, of, the,...          57   \n",
       "1     [i, posted, this, as, a, comment, in, another,...         457   \n",
       "2     [i, would, like, a, mace, windu, show, showing...          99   \n",
       "3     [1, the, ot, is, basically, reverted, the, gal...         374   \n",
       "4     [me, lili, mirojnickwho, d, you, get, to, play...          16   \n",
       "...                                                 ...         ...   \n",
       "3995                            [i, love, this, speech]           4   \n",
       "3996  [is, there, some, reason, that, they, can, t, ...          26   \n",
       "3997  [there, are, 791, episodes, of, star, trek, al...          34   \n",
       "3998  [when, an, unauthorized, officer, is, in, your...          26   \n",
       "3999  [preface, i, love, love, love, ds9, as, it, wa...         537   \n",
       "\n",
       "      sentiment                                               lems  \\\n",
       "0        0.9657  [i, ve, seen, several, novelization, of, the, ...   \n",
       "1        0.9790  [i, posted, this, a, a, comment, in, another, ...   \n",
       "2        0.9667  [i, would, like, a, mace, windu, show, showing...   \n",
       "3       -0.9959  [1, the, ot, is, basically, reverted, the, gal...   \n",
       "4        0.3400  [me, lili, mirojnickwho, d, you, get, to, play...   \n",
       "...         ...                                                ...   \n",
       "3995     0.6369                            [i, love, this, speech]   \n",
       "3996     0.0000  [is, there, some, reason, that, they, can, t, ...   \n",
       "3997     0.0000  [there, are, 791, episode, of, star, trek, alt...   \n",
       "3998     0.6124  [when, an, unauthorized, officer, is, in, your...   \n",
       "3999     0.9962  [preface, i, love, love, love, ds9, a, it, wa,...   \n",
       "\n",
       "                                                  stems  \\\n",
       "0     [i, ve, seen, sever, novel, of, the, main, 6, ...   \n",
       "1     [i, post, this, as, a, comment, in, anoth, thr...   \n",
       "2     [i, would, like, a, mace, windu, show, show, h...   \n",
       "3     [1, the, ot, is, basic, revert, the, galaxi, i...   \n",
       "4     [me, lili, mirojnickwho, d, you, get, to, play...   \n",
       "...                                                 ...   \n",
       "3995                            [i, love, this, speech]   \n",
       "3996  [is, there, some, reason, that, they, can, t, ...   \n",
       "3997  [there, are, 791, episod, of, star, trek, alto...   \n",
       "3998  [when, an, unauthor, offic, is, in, your, capt...   \n",
       "3999  [prefac, i, love, love, love, ds9, as, it, was...   \n",
       "\n",
       "                                            nostop_stem  \\\n",
       "0     [seen, sever, novel, main, 6, movi, never, fig...   \n",
       "1     [post, comment, anoth, thread, kinda, got, bur...   \n",
       "2     [would, like, mace, windu, show, show, journey...   \n",
       "3     [1, ot, basic, revert, galaxi, left, reveng, s...   \n",
       "4     [lili, mirojnickwho, get, play, princess, leia...   \n",
       "...                                                 ...   \n",
       "3995                                     [love, speech]   \n",
       "3996  [reason, replic, technolog, futur, futur, star...   \n",
       "3997  [791, episod, star, trek, altogeth, count, cou...   \n",
       "3998  [unauthor, offic, captain, chair, cute, remov,...   \n",
       "3999  [prefac, love, love, love, ds9, written, produ...   \n",
       "\n",
       "                                            nostop_lems  \n",
       "0     [seen, several, novelization, main, 6, movie, ...  \n",
       "1     [posted, comment, another, thread, kinda, got,...  \n",
       "2     [would, like, mace, windu, show, showing, jour...  \n",
       "3     [1, ot, basically, reverted, galaxy, left, rev...  \n",
       "4     [lili, mirojnickwho, get, play, princess, leia...  \n",
       "...                                                 ...  \n",
       "3995                                     [love, speech]  \n",
       "3996  [reason, replicate, technology, future, future...  \n",
       "3997  [791, episode, star, trek, altogether, countin...  \n",
       "3998  [unauthorized, officer, captain, chair, cute, ...  \n",
       "3999  [preface, love, love, love, ds9, wa, written, ...  \n",
       "\n",
       "[4000 rows x 9 columns]"
      ]
     },
     "execution_count": 19,
     "metadata": {},
     "output_type": "execute_result"
    }
   ],
   "source": [
    "stop_array = []\n",
    "\n",
    "for i in submissions.index:\n",
    "    \n",
    "    stop_list = []\n",
    "    #remove stop words from lems list. that must be done with the lems.\n",
    "    \n",
    "    for item in submissions['lems'][i]:\n",
    "        if item not in stop: # stop are the stop words. \n",
    "            stop_list.append(item) #These are the words not stop words\n",
    "    stop_array.append(stop_list) \n",
    "    \n",
    "submissions['nostop_lems'] = stop_array\n",
    "submissions"
   ]
  },
  {
   "cell_type": "markdown",
   "metadata": {},
   "source": [
    "You might be wondering why do stop words on lems and stems but not the all text feature. Turns out Cross Vectorization has stop words as a parameter so I can remove them later in the modeling process. "
   ]
  },
  {
   "cell_type": "markdown",
   "metadata": {},
   "source": [
    "## Word Frequencies"
   ]
  },
  {
   "cell_type": "code",
   "execution_count": 20,
   "metadata": {},
   "outputs": [],
   "source": [
    "# Now i must pull out all the nostop_stems and combine them for each subreddit,\n",
    "# then see what the most common words are in each subreddit\n",
    "star_trek_stems = []\n",
    "star_wars_stems = []\n",
    "\n",
    "for i in submissions.index:\n",
    "\n",
    "    \n",
    "    #star trek = 0 , so these are all the star trek stem words. \n",
    "    if submissions['subreddit'][i] ==0:\n",
    "        star_trek_stems.append(submissions['nostop_stem'][i])\n",
    "    #star wars = 1 , so these are all the star wars stem words. \n",
    "    if submissions['subreddit'][i] ==1:\n",
    "        star_wars_stems.append(submissions['nostop_stem'][i])\n",
    "        \n",
    "\n",
    "trek_comp = []        \n",
    "for wordlist in star_trek_stems:\n",
    "    w1 = ' '.join(wordlist)\n",
    "    trek_comp.append(w1)\n",
    "all_trek_stems = ' '.join(trek_comp)\n",
    "\n",
    "wars_comp = []\n",
    "for wordlist in star_wars_stems:\n",
    "    w2 = ' '.join(wordlist)\n",
    "    wars_comp.append(w2)\n",
    "all_wars_stems = ' '.join(wars_comp)"
   ]
  },
  {
   "cell_type": "code",
   "execution_count": 21,
   "metadata": {},
   "outputs": [],
   "source": [
    "# Now i must pull out all the nostop_lems and combine them for each subreddit,\n",
    "# then see what the most common words are in each subreddit\n",
    "star_trek_lems = []\n",
    "star_wars_lems = []\n",
    "\n",
    "for i in submissions.index:\n",
    "\n",
    "    \n",
    "    #star trek = 0 , so these are all the star trek stem words. \n",
    "    if submissions['subreddit'][i] ==0:\n",
    "        star_trek_lems.append(submissions['nostop_lems'][i])\n",
    "    #star wars = 1 , so these are all the star wars stem words. \n",
    "    if submissions['subreddit'][i] ==1:\n",
    "        star_wars_lems.append(submissions['nostop_lems'][i])\n",
    "        \n",
    "\n",
    "trek_comp = []        \n",
    "for wordlist in star_trek_lems:\n",
    "    w1 = ' '.join(wordlist)\n",
    "    trek_comp.append(w1)\n",
    "all_trek_lems = ' '.join(trek_comp)\n",
    "\n",
    "wars_comp = []\n",
    "for wordlist in star_wars_lems:\n",
    "    w2 = ' '.join(wordlist)\n",
    "    wars_comp.append(w2)\n",
    "all_wars_lems = ' '.join(wars_comp)"
   ]
  },
  {
   "cell_type": "code",
   "execution_count": 22,
   "metadata": {},
   "outputs": [
    {
     "data": {
      "image/png": "[encoded data removed]",
      "text/plain": [
       "<Figure size 432x288 with 1 Axes>"
      ]
     },
     "metadata": {
      "needs_background": "light"
     },
     "output_type": "display_data"
    }
   ],
   "source": [
    "tokens = nltk.tokenize.word_tokenize(all_trek_stems)\n",
    "freqs = FreqDist(tokens).most_common(10)\n",
    "\n",
    "x= [x[0] for x in freqs]\n",
    "y= [x[1] for x in freqs]\n",
    "\n",
    "\n",
    "sns.barplot(x=x, y=y).set_title(\"Star Trek Most Common Words\");\n",
    "plt.savefig('./images/startrek_10common.png')"
   ]
  },
  {
   "cell_type": "code",
   "execution_count": 23,
   "metadata": {},
   "outputs": [
    {
     "data": {
      "image/png": "[encoded data removed]",
      "text/plain": [
       "<Figure size 432x288 with 1 Axes>"
      ]
     },
     "metadata": {
      "needs_background": "light"
     },
     "output_type": "display_data"
    }
   ],
   "source": [
    "tokens = nltk.tokenize.word_tokenize(all_wars_stems)\n",
    "freqs = FreqDist(tokens).most_common(10)\n",
    "\n",
    "x= [x[0] for x in freqs]\n",
    "y= [x[1] for x in freqs]\n",
    "\n",
    "sns.barplot(x=x, y=y).set_title(\"Star Wars Most Common Words\");\n",
    "plt.savefig('./images/starwars_10common.png')"
   ]
  },
  {
   "cell_type": "markdown",
   "metadata": {},
   "source": [
    "These are the stem words, excluding the stopped words, that are most common in star trek and star wars respectivly.\n",
    "It is time to look at this another way. Let's transform our data and find the words with the highest coorelations to their classes and go from there. "
   ]
  },
  {
   "cell_type": "markdown",
   "metadata": {},
   "source": [
    "\n",
    "### Visualizing the embeddings\n",
    "Now that we've created embeddings, let's visualize them and see if we can identify some structure. In a perfect world, our embeddings would be so distinct that are two classes would be perfectly separated. Since visualizing data in 20k dimensions is hard, let's project it down to 2."
   ]
  },
  {
   "cell_type": "code",
   "execution_count": 24,
   "metadata": {},
   "outputs": [],
   "source": [
    "X = submissions[['all', 'word_count','sentiment']]\n",
    "y = submissions['subreddit']\n",
    "\n",
    "X_train, X_test, y_train, y_test = train_test_split(X, \n",
    "                                                    y, \n",
    "                                                    test_size=0.2,\n",
    "                                                    random_state=42)"
   ]
  },
  {
   "cell_type": "code",
   "execution_count": 25,
   "metadata": {},
   "outputs": [],
   "source": [
    "cv = CountVectorizer(min_df=0.01, stop_words='english')\n",
    "XX_train_counts = cv.fit_transform(X_train['all'])\n",
    "XX_test_counts = cv.transform(X_test['all'])\n",
    "\n",
    "datafrog = pd.DataFrame(XX_train_counts.todense(), columns=cv.get_feature_names())"
   ]
  },
  {
   "cell_type": "code",
   "execution_count": 26,
   "metadata": {},
   "outputs": [],
   "source": [
    "datafrog;"
   ]
  },
  {
   "cell_type": "code",
   "execution_count": 27,
   "metadata": {},
   "outputs": [
    {
     "data": {
      "text/plain": [
       "(3200, 10)"
      ]
     },
     "execution_count": 27,
     "metadata": {},
     "output_type": "execute_result"
    }
   ],
   "source": [
    "SVD = TruncatedSVD(n_components=10)\n",
    "svd_matrix = SVD.fit_transform(datafrog)\n",
    "svd_matrix.shape"
   ]
  },
  {
   "cell_type": "code",
   "execution_count": 28,
   "metadata": {},
   "outputs": [
    {
     "data": {
      "image/png": "[encoded data removed]",
      "text/plain": [
       "<Figure size 1440x720 with 1 Axes>"
      ]
     },
     "metadata": {
      "needs_background": "light"
     },
     "output_type": "display_data"
    }
   ],
   "source": [
    "fig = plt.figure(figsize=(20,10))\n",
    "plt.bar(np.array(range(10))+1, \n",
    "        SVD.explained_variance_ratio_, \n",
    "        color='g', \n",
    "        label='explained variance')\n",
    "plt.plot(np.array(range(10))+1, \n",
    "         np.cumsum(SVD.explained_variance_ratio_), \n",
    "         label='cumulative explained variance')\n",
    "plt.legend(fontsize=16)\n",
    "plt.xlabel('component', fontsize=20)\n",
    "plt.ylabel('variance ratio', fontsize=20)\n",
    "plt.title('Explained variance by component', fontsize=36)\n",
    "plt.savefig('./images/explained_variance.png')"
   ]
  },
  {
   "cell_type": "code",
   "execution_count": 29,
   "metadata": {},
   "outputs": [],
   "source": [
    "component_names = [\"component_\"+str(i+1) for i in range(10)]\n",
    "svd_df = pd.DataFrame(svd_matrix,\n",
    "                      columns=component_names)"
   ]
  },
  {
   "cell_type": "code",
   "execution_count": 30,
   "metadata": {},
   "outputs": [
    {
     "data": {
      "text/plain": [
       "(424, 10)"
      ]
     },
     "execution_count": 30,
     "metadata": {},
     "output_type": "execute_result"
    }
   ],
   "source": [
    "loadings = pd.DataFrame(SVD.components_,\n",
    "                        index=component_names,\n",
    "                        columns=datafrog.columns).T\n",
    "loadings.shape"
   ]
  },
  {
   "cell_type": "code",
   "execution_count": 31,
   "metadata": {},
   "outputs": [],
   "source": [
    "loadings['abs_component_1'] = np.abs(loadings.component_1)\n",
    "loadings['abs_component_2'] = np.abs(loadings.component_2)"
   ]
  },
  {
   "cell_type": "code",
   "execution_count": 32,
   "metadata": {},
   "outputs": [
    {
     "data": {
      "text/html": [
       "<div>\n",
       "<style scoped>\n",
       "    .dataframe tbody tr th:only-of-type {\n",
       "        vertical-align: middle;\n",
       "    }\n",
       "\n",
       "    .dataframe tbody tr th {\n",
       "        vertical-align: top;\n",
       "    }\n",
       "\n",
       "    .dataframe thead th {\n",
       "        text-align: right;\n",
       "    }\n",
       "</style>\n",
       "<table border=\"1\" class=\"dataframe\">\n",
       "  <thead>\n",
       "    <tr style=\"text-align: right;\">\n",
       "      <th></th>\n",
       "      <th>component_1</th>\n",
       "      <th>component_2</th>\n",
       "      <th>component_3</th>\n",
       "      <th>component_4</th>\n",
       "      <th>component_5</th>\n",
       "      <th>component_6</th>\n",
       "      <th>component_7</th>\n",
       "      <th>component_8</th>\n",
       "      <th>component_9</th>\n",
       "      <th>component_10</th>\n",
       "      <th>abs_component_1</th>\n",
       "      <th>abs_component_2</th>\n",
       "    </tr>\n",
       "  </thead>\n",
       "  <tbody>\n",
       "    <tr>\n",
       "      <th>10</th>\n",
       "      <td>0.036529</td>\n",
       "      <td>0.023149</td>\n",
       "      <td>-0.008781</td>\n",
       "      <td>-0.067562</td>\n",
       "      <td>0.120813</td>\n",
       "      <td>0.498025</td>\n",
       "      <td>0.433721</td>\n",
       "      <td>-0.389388</td>\n",
       "      <td>0.501589</td>\n",
       "      <td>0.093256</td>\n",
       "      <td>0.036529</td>\n",
       "      <td>0.023149</td>\n",
       "    </tr>\n",
       "    <tr>\n",
       "      <th>12</th>\n",
       "      <td>0.009164</td>\n",
       "      <td>0.017831</td>\n",
       "      <td>0.002679</td>\n",
       "      <td>-0.004249</td>\n",
       "      <td>0.019823</td>\n",
       "      <td>0.035835</td>\n",
       "      <td>0.020053</td>\n",
       "      <td>0.022437</td>\n",
       "      <td>-0.036334</td>\n",
       "      <td>-0.009875</td>\n",
       "      <td>0.009164</td>\n",
       "      <td>0.017831</td>\n",
       "    </tr>\n",
       "    <tr>\n",
       "      <th>2020</th>\n",
       "      <td>0.014771</td>\n",
       "      <td>-0.004710</td>\n",
       "      <td>0.022221</td>\n",
       "      <td>-0.007002</td>\n",
       "      <td>0.003609</td>\n",
       "      <td>0.012176</td>\n",
       "      <td>-0.008210</td>\n",
       "      <td>-0.008817</td>\n",
       "      <td>-0.032704</td>\n",
       "      <td>0.025988</td>\n",
       "      <td>0.014771</td>\n",
       "      <td>0.004710</td>\n",
       "    </tr>\n",
       "    <tr>\n",
       "      <th>2021</th>\n",
       "      <td>0.002554</td>\n",
       "      <td>-0.000370</td>\n",
       "      <td>0.003040</td>\n",
       "      <td>-0.001608</td>\n",
       "      <td>0.002411</td>\n",
       "      <td>0.002006</td>\n",
       "      <td>0.002279</td>\n",
       "      <td>-0.006148</td>\n",
       "      <td>0.001492</td>\n",
       "      <td>-0.000167</td>\n",
       "      <td>0.002554</td>\n",
       "      <td>0.000370</td>\n",
       "    </tr>\n",
       "    <tr>\n",
       "      <th>able</th>\n",
       "      <td>0.016515</td>\n",
       "      <td>-0.004855</td>\n",
       "      <td>-0.015596</td>\n",
       "      <td>0.018026</td>\n",
       "      <td>0.008452</td>\n",
       "      <td>0.000148</td>\n",
       "      <td>-0.009079</td>\n",
       "      <td>0.004945</td>\n",
       "      <td>-0.006885</td>\n",
       "      <td>-0.001585</td>\n",
       "      <td>0.016515</td>\n",
       "      <td>0.004855</td>\n",
       "    </tr>\n",
       "  </tbody>\n",
       "</table>\n",
       "</div>"
      ],
      "text/plain": [
       "      component_1  component_2  component_3  component_4  component_5  \\\n",
       "10       0.036529     0.023149    -0.008781    -0.067562     0.120813   \n",
       "12       0.009164     0.017831     0.002679    -0.004249     0.019823   \n",
       "2020     0.014771    -0.004710     0.022221    -0.007002     0.003609   \n",
       "2021     0.002554    -0.000370     0.003040    -0.001608     0.002411   \n",
       "able     0.016515    -0.004855    -0.015596     0.018026     0.008452   \n",
       "\n",
       "      component_6  component_7  component_8  component_9  component_10  \\\n",
       "10       0.498025     0.433721    -0.389388     0.501589      0.093256   \n",
       "12       0.035835     0.020053     0.022437    -0.036334     -0.009875   \n",
       "2020     0.012176    -0.008210    -0.008817    -0.032704      0.025988   \n",
       "2021     0.002006     0.002279    -0.006148     0.001492     -0.000167   \n",
       "able     0.000148    -0.009079     0.004945    -0.006885     -0.001585   \n",
       "\n",
       "      abs_component_1  abs_component_2  \n",
       "10           0.036529         0.023149  \n",
       "12           0.009164         0.017831  \n",
       "2020         0.014771         0.004710  \n",
       "2021         0.002554         0.000370  \n",
       "able         0.016515         0.004855  "
      ]
     },
     "execution_count": 32,
     "metadata": {},
     "output_type": "execute_result"
    }
   ],
   "source": [
    "loadings.head()"
   ]
  },
  {
   "cell_type": "code",
   "execution_count": 33,
   "metadata": {
    "scrolled": true
   },
   "outputs": [
    {
     "data": {
      "text/html": [
       "<div>\n",
       "<style scoped>\n",
       "    .dataframe tbody tr th:only-of-type {\n",
       "        vertical-align: middle;\n",
       "    }\n",
       "\n",
       "    .dataframe tbody tr th {\n",
       "        vertical-align: top;\n",
       "    }\n",
       "\n",
       "    .dataframe thead th {\n",
       "        text-align: right;\n",
       "    }\n",
       "</style>\n",
       "<table border=\"1\" class=\"dataframe\">\n",
       "  <thead>\n",
       "    <tr style=\"text-align: right;\">\n",
       "      <th></th>\n",
       "      <th>component_1</th>\n",
       "    </tr>\n",
       "  </thead>\n",
       "  <tbody>\n",
       "    <tr>\n",
       "      <th>star</th>\n",
       "      <td>0.348053</td>\n",
       "    </tr>\n",
       "    <tr>\n",
       "      <th>trek</th>\n",
       "      <td>0.309315</td>\n",
       "    </tr>\n",
       "    <tr>\n",
       "      <th>episode</th>\n",
       "      <td>0.301846</td>\n",
       "    </tr>\n",
       "    <tr>\n",
       "      <th>like</th>\n",
       "      <td>0.276898</td>\n",
       "    </tr>\n",
       "    <tr>\n",
       "      <th>just</th>\n",
       "      <td>0.264984</td>\n",
       "    </tr>\n",
       "    <tr>\n",
       "      <th>episodes</th>\n",
       "      <td>0.153148</td>\n",
       "    </tr>\n",
       "    <tr>\n",
       "      <th>time</th>\n",
       "      <td>0.148224</td>\n",
       "    </tr>\n",
       "    <tr>\n",
       "      <th>season</th>\n",
       "      <td>0.147918</td>\n",
       "    </tr>\n",
       "    <tr>\n",
       "      <th>think</th>\n",
       "      <td>0.142694</td>\n",
       "    </tr>\n",
       "    <tr>\n",
       "      <th>series</th>\n",
       "      <td>0.140302</td>\n",
       "    </tr>\n",
       "    <tr>\n",
       "      <th>really</th>\n",
       "      <td>0.133728</td>\n",
       "    </tr>\n",
       "    <tr>\n",
       "      <th>know</th>\n",
       "      <td>0.122378</td>\n",
       "    </tr>\n",
       "    <tr>\n",
       "      <th>don</th>\n",
       "      <td>0.122110</td>\n",
       "    </tr>\n",
       "    <tr>\n",
       "      <th>people</th>\n",
       "      <td>0.118752</td>\n",
       "    </tr>\n",
       "    <tr>\n",
       "      <th>discovery</th>\n",
       "      <td>0.116357</td>\n",
       "    </tr>\n",
       "    <tr>\n",
       "      <th>ve</th>\n",
       "      <td>0.110640</td>\n",
       "    </tr>\n",
       "    <tr>\n",
       "      <th>character</th>\n",
       "      <td>0.107976</td>\n",
       "    </tr>\n",
       "    <tr>\n",
       "      <th>good</th>\n",
       "      <td>0.101516</td>\n",
       "    </tr>\n",
       "    <tr>\n",
       "      <th>wars</th>\n",
       "      <td>0.098876</td>\n",
       "    </tr>\n",
       "    <tr>\n",
       "      <th>tng</th>\n",
       "      <td>0.097112</td>\n",
       "    </tr>\n",
       "  </tbody>\n",
       "</table>\n",
       "</div>"
      ],
      "text/plain": [
       "           component_1\n",
       "star          0.348053\n",
       "trek          0.309315\n",
       "episode       0.301846\n",
       "like          0.276898\n",
       "just          0.264984\n",
       "episodes      0.153148\n",
       "time          0.148224\n",
       "season        0.147918\n",
       "think         0.142694\n",
       "series        0.140302\n",
       "really        0.133728\n",
       "know          0.122378\n",
       "don           0.122110\n",
       "people        0.118752\n",
       "discovery     0.116357\n",
       "ve            0.110640\n",
       "character     0.107976\n",
       "good          0.101516\n",
       "wars          0.098876\n",
       "tng           0.097112"
      ]
     },
     "execution_count": 33,
     "metadata": {},
     "output_type": "execute_result"
    }
   ],
   "source": [
    "loadings.sort_values('abs_component_1',ascending=False).head(20)[['component_1']]"
   ]
  },
  {
   "cell_type": "code",
   "execution_count": 34,
   "metadata": {},
   "outputs": [
    {
     "data": {
      "text/html": [
       "<div>\n",
       "<style scoped>\n",
       "    .dataframe tbody tr th:only-of-type {\n",
       "        vertical-align: middle;\n",
       "    }\n",
       "\n",
       "    .dataframe tbody tr th {\n",
       "        vertical-align: top;\n",
       "    }\n",
       "\n",
       "    .dataframe thead th {\n",
       "        text-align: right;\n",
       "    }\n",
       "</style>\n",
       "<table border=\"1\" class=\"dataframe\">\n",
       "  <thead>\n",
       "    <tr style=\"text-align: right;\">\n",
       "      <th></th>\n",
       "      <th>component_1</th>\n",
       "    </tr>\n",
       "  </thead>\n",
       "  <tbody>\n",
       "    <tr>\n",
       "      <th>episode</th>\n",
       "      <td>0.301846</td>\n",
       "    </tr>\n",
       "    <tr>\n",
       "      <th>star</th>\n",
       "      <td>0.348053</td>\n",
       "    </tr>\n",
       "    <tr>\n",
       "      <th>episodes</th>\n",
       "      <td>0.153148</td>\n",
       "    </tr>\n",
       "    <tr>\n",
       "      <th>wars</th>\n",
       "      <td>0.098876</td>\n",
       "    </tr>\n",
       "    <tr>\n",
       "      <th>season</th>\n",
       "      <td>0.147918</td>\n",
       "    </tr>\n",
       "    <tr>\n",
       "      <th>force</th>\n",
       "      <td>0.068774</td>\n",
       "    </tr>\n",
       "    <tr>\n",
       "      <th>like</th>\n",
       "      <td>0.276898</td>\n",
       "    </tr>\n",
       "    <tr>\n",
       "      <th>luke</th>\n",
       "      <td>0.066525</td>\n",
       "    </tr>\n",
       "    <tr>\n",
       "      <th>jedi</th>\n",
       "      <td>0.061265</td>\n",
       "    </tr>\n",
       "    <tr>\n",
       "      <th>michael</th>\n",
       "      <td>0.050352</td>\n",
       "    </tr>\n",
       "    <tr>\n",
       "      <th>trek</th>\n",
       "      <td>0.309315</td>\n",
       "    </tr>\n",
       "    <tr>\n",
       "      <th>crew</th>\n",
       "      <td>0.073452</td>\n",
       "    </tr>\n",
       "    <tr>\n",
       "      <th>just</th>\n",
       "      <td>0.264984</td>\n",
       "    </tr>\n",
       "    <tr>\n",
       "      <th>federation</th>\n",
       "      <td>0.060228</td>\n",
       "    </tr>\n",
       "    <tr>\n",
       "      <th>new</th>\n",
       "      <td>0.095087</td>\n",
       "    </tr>\n",
       "    <tr>\n",
       "      <th>discovery</th>\n",
       "      <td>0.116357</td>\n",
       "    </tr>\n",
       "    <tr>\n",
       "      <th>movie</th>\n",
       "      <td>0.049457</td>\n",
       "    </tr>\n",
       "    <tr>\n",
       "      <th>ship</th>\n",
       "      <td>0.081281</td>\n",
       "    </tr>\n",
       "    <tr>\n",
       "      <th>think</th>\n",
       "      <td>0.142694</td>\n",
       "    </tr>\n",
       "    <tr>\n",
       "      <th>list</th>\n",
       "      <td>0.041551</td>\n",
       "    </tr>\n",
       "  </tbody>\n",
       "</table>\n",
       "</div>"
      ],
      "text/plain": [
       "            component_1\n",
       "episode        0.301846\n",
       "star           0.348053\n",
       "episodes       0.153148\n",
       "wars           0.098876\n",
       "season         0.147918\n",
       "force          0.068774\n",
       "like           0.276898\n",
       "luke           0.066525\n",
       "jedi           0.061265\n",
       "michael        0.050352\n",
       "trek           0.309315\n",
       "crew           0.073452\n",
       "just           0.264984\n",
       "federation     0.060228\n",
       "new            0.095087\n",
       "discovery      0.116357\n",
       "movie          0.049457\n",
       "ship           0.081281\n",
       "think          0.142694\n",
       "list           0.041551"
      ]
     },
     "execution_count": 34,
     "metadata": {},
     "output_type": "execute_result"
    }
   ],
   "source": [
    "loadings.sort_values('abs_component_2',ascending=False).head(20)[['component_1']]"
   ]
  },
  {
   "cell_type": "code",
   "execution_count": 35,
   "metadata": {},
   "outputs": [
    {
     "data": {
      "image/png": "[encoded data removed]",
      "text/plain": [
       "<Figure size 1440x720 with 1 Axes>"
      ]
     },
     "metadata": {
      "needs_background": "light"
     },
     "output_type": "display_data"
    }
   ],
   "source": [
    "plt.figure(figsize=(20,10))\n",
    "plt.scatter(svd_df.component_1[submissions['subreddit']==1], svd_df.component_2[submissions['subreddit']==1], c='goldenrod', alpha=.3)\n",
    "plt.scatter(svd_df.component_1[submissions['subreddit']==0], svd_df.component_2[submissions['subreddit']==0], c='grey', alpha=.3)\n",
    "plt.xlabel(f\"{', '.join(loadings.sort_values('abs_component_1',ascending=False).head(5)[['component_1']].index)}\",\n",
    "          fontsize=20)\n",
    "plt.ylabel(f\"{', '.join(loadings.sort_values('abs_component_2',ascending=False).head(5)[['component_2']].index)}\",\n",
    "          fontsize=20)\n",
    "plt.title('First two components of our SVD', fontsize=36)\n",
    "plt.legend(['Star Wars', 'Star Trek'], fontsize=16)\n",
    "plt.savefig('./images/components.png')"
   ]
  },
  {
   "cell_type": "markdown",
   "metadata": {},
   "source": [
    "--------------------------"
   ]
  },
  {
   "cell_type": "code",
   "execution_count": 36,
   "metadata": {},
   "outputs": [],
   "source": [
    "submissions.to_pickle('./datasets/submissions.pkl')\n",
    "comments.to_pickle('./datasets/comments.pkl')"
   ]
  }
 ],
 "metadata": {
  "kernelspec": {
   "display_name": "Python 3",
   "language": "python",
   "name": "python3"
  },
  "language_info": {
   "codemirror_mode": {
    "name": "ipython",
    "version": 3
   },
   "file_extension": ".py",
   "mimetype": "text/x-python",
   "name": "python",
   "nbconvert_exporter": "python",
   "pygments_lexer": "ipython3",
   "version": "3.8.5"
  }
 },
 "nbformat": 4,
 "nbformat_minor": 4
}

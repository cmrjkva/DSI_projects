{
 "cells": [
  {
   "cell_type": "markdown",
   "metadata": {},
   "source": [
    "## Webscraping"
   ]
  },
  {
   "cell_type": "code",
   "execution_count": 2,
   "metadata": {},
   "outputs": [],
   "source": [
    "import requests\n",
    "import time \n",
    "import pandas as pd\n",
    "import re"
   ]
  },
  {
   "cell_type": "code",
   "execution_count": 3,
   "metadata": {},
   "outputs": [],
   "source": [
    "url = 'https://api.pushshift.io/reddit/submission/search'\n",
    "dfs = []\n",
    "loops = 20\n",
    "subreddit = 'startrek'\n",
    "start_time = time.time()\n",
    "params = {\n",
    "    'subreddit': subreddit,\n",
    "    'size': 100,\n",
    "    'before': round(start_time)\n",
    "    }\n",
    "for i in range(loops):\n",
    "    current_time = time.time()\n",
    "    #requesting data\n",
    "    res = requests.get(url, params)\n",
    "    print(f'res {i+1} code: ', res.status_code)\n",
    "    data = res.json()\n",
    "    posts = data['data']\n",
    "    post_df = pd.DataFrame(posts)\n",
    "    dfs.append(post_df)\n",
    "    #get oldest post time and use as before parameter in next request\n",
    "    oldest = post_df['created_utc'].min()\n",
    "    params['before'] = oldest\n",
    "    time.sleep(1)\n",
    "reddit_posts = pd.concat(dfs)\n",
    "\n",
    "filename = subreddit + '_submission.csv'\n",
    "reddit_posts.to_csv('./datasets/' + filename, index=False)"
   ]
  },
  {
   "cell_type": "code",
   "execution_count": 4,
   "metadata": {},
   "outputs": [],
   "source": [
    "url = 'https://api.pushshift.io/reddit/submission/search'\n",
    "dfs = []\n",
    "loops = 20\n",
    "subreddit = 'starwars'\n",
    "start_time = time.time()\n",
    "params = {\n",
    "    'subreddit': subreddit,\n",
    "    'size': 100,\n",
    "    'before': round(start_time)\n",
    "    }\n",
    "for i in range(loops):\n",
    "    current_time = time.time()\n",
    "    #requesting data\n",
    "    res = requests.get(url, params)\n",
    "    print(f'res {i+1} code: ', res.status_code)\n",
    "    data = res.json()\n",
    "    posts = data['data']\n",
    "    post_df = pd.DataFrame(posts)\n",
    "    dfs.append(post_df)\n",
    "    #get oldest post time and use as before parameter in next request\n",
    "    oldest = post_df['created_utc'].min()\n",
    "    params['before'] = oldest\n",
    "    time.sleep(1)\n",
    "reddit_posts = pd.concat(dfs)\n",
    "\n",
    "filename = subreddit + '_submission.csv'\n",
    "reddit_posts.to_csv('./datasets/' + filename, index=False)"
   ]
  },
  {
   "cell_type": "code",
   "execution_count": 5,
   "metadata": {},
   "outputs": [],
   "source": [
    "url = 'https://api.pushshift.io/reddit/comment/search'\n",
    "dfs = []\n",
    "loops = 20\n",
    "subreddit = 'starwars'\n",
    "start_time = time.time()\n",
    "params = {\n",
    "    'subreddit': subreddit,\n",
    "    'size': 100,\n",
    "    'before': round(start_time)\n",
    "    }\n",
    "for i in range(loops):\n",
    "    current_time = time.time()\n",
    "    #requesting data\n",
    "    res = requests.get(url, params)\n",
    "    print(f'res {i+1} code: ', res.status_code)\n",
    "    data = res.json()\n",
    "    posts = data['data']\n",
    "    post_df = pd.DataFrame(posts)\n",
    "    dfs.append(post_df)\n",
    "    #get oldest post time and use as before parameter in next request\n",
    "    oldest = post_df['created_utc'].min()\n",
    "    params['before'] = oldest\n",
    "    time.sleep(1)\n",
    "reddit_posts = pd.concat(dfs)\n",
    "\n",
    "filename = subreddit + '_comments.csv'\n",
    "reddit_posts.to_csv('./datasets/' + filename, index=False)"
   ]
  },
  {
   "cell_type": "code",
   "execution_count": 6,
   "metadata": {},
   "outputs": [],
   "source": [
    "url = 'https://api.pushshift.io/reddit/comment/search'\n",
    "dfs = []\n",
    "loops = 20\n",
    "subreddit = 'startrek'\n",
    "start_time = time.time()\n",
    "params = {\n",
    "    'subreddit': subreddit,\n",
    "    'size': 100,\n",
    "    'before': round(start_time)\n",
    "    }\n",
    "for i in range(loops):\n",
    "    current_time = time.time()\n",
    "    #requesting data\n",
    "    res = requests.get(url, params)\n",
    "    print(f'res {i+1} code: ', res.status_code)\n",
    "    data = res.json()\n",
    "    posts = data['data']\n",
    "    post_df = pd.DataFrame(posts)\n",
    "    dfs.append(post_df)\n",
    "    #get oldest post time and use as before parameter in next request\n",
    "    oldest = post_df['created_utc'].min()\n",
    "    params['before'] = oldest\n",
    "    time.sleep(1)\n",
    "reddit_posts = pd.concat(dfs)\n",
    "\n",
    "filename = subreddit + '_comments.csv'\n",
    "reddit_posts.to_csv('./datasets/' + filename, index=False)"
   ]
  }
 ],
 "metadata": {
  "kernelspec": {
   "display_name": "Python 3",
   "language": "python",
   "name": "python3"
  },
  "language_info": {
   "codemirror_mode": {
    "name": "ipython",
    "version": 3
   },
   "file_extension": ".py",
   "mimetype": "text/x-python",
   "name": "python",
   "nbconvert_exporter": "python",
   "pygments_lexer": "ipython3",
   "version": "3.8.3"
  }
 },
 "nbformat": 4,
 "nbformat_minor": 4
}
